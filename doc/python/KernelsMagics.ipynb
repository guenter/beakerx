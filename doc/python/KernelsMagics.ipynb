{
 "cells": [
  {
   "cell_type": "code",
   "execution_count": null,
   "metadata": {},
   "outputs": [],
   "source": [
    "%%clojure\n",
    "(doto (Plot.)\n",
    "            (.setTitle \"Title\")\n",
    "            (.setXLabel \"Horizontal\")\n",
    "            (.setYLabel \"Vertical\")\n",
    "            (.add (doto (Line.)\n",
    "                        (.setX [0, 1, 2, 3, 4, 5])\n",
    "                        (.setY [0, 1, 6, 5, 2, 8]))))"
   ]
  },
  {
   "cell_type": "code",
   "execution_count": null,
   "metadata": {},
   "outputs": [],
   "source": [
    "%%groovy\n",
    "def p = new Plot(title : 'Title', xLabel: 'Horizontal', yLabel: 'Vertical');\n",
    "p << new Line(x: [0, 1, 2, 3, 4, 5], y: [0, 1, 6, 5, 2, 8])"
   ]
  },
  {
   "cell_type": "code",
   "execution_count": null,
   "metadata": {},
   "outputs": [],
   "source": [
    "%%java\n",
    "import java.util.List;\n",
    "import com.twosigma.beakerx.chart.xychart.Plot;\n",
    "import java.util.Arrays;\n",
    "\n",
    "Plot p = new Plot();\n",
    "\n",
    "p.setTitle(\"Title\");\n",
    "p.setXLabel(\"Horizontal\");\n",
    "p.setYLabel(\"Vertical\");\n",
    "\n",
    "Bars b = new Bars();\n",
    "\n",
    "List<Object> x = Arrays.asList(0, 1, 2, 3, 4, 5);\n",
    "List<Number> y = Arrays.asList(0, 1, 6, 5, 2, 8);\n",
    "Line line = new Line();\n",
    "line.setX(x);\n",
    "line.setY(y);\n",
    "p.add(line);\n",
    "  \n",
    "return p;"
   ]
  },
  {
   "cell_type": "code",
   "execution_count": null,
   "metadata": {},
   "outputs": [],
   "source": [
    "%%kotlin\n",
    "val x: MutableList<Any> = mutableListOf(0, 1, 2, 3, 4, 5)\n",
    "val y: MutableList<Number> = mutableListOf(0, 1, 6, 5, 2, 8)\n",
    "val line = Line()\n",
    "line.setX(x)\n",
    "line.setY(y)\n",
    "\n",
    "val plot = Plot()\n",
    "plot.setTitle(\"Title\")\n",
    "plot.setXLabel(\"Horizontal\")\n",
    "plot.setYLabel(\"Vertical\")\n",
    "plot.add(line)\n",
    "plot"
   ]
  },
  {
   "cell_type": "code",
   "execution_count": null,
   "metadata": {},
   "outputs": [],
   "source": [
    "%%scala\n",
    "val plot = new Plot { title = \"Title\"; xLabel=\"Horizontal\"; yLabel=\"Vertical\" }\n",
    "val line = new Line {x = Seq(0, 1, 2, 3, 4, 5); y = Seq(0, 1, 6, 5, 2, 8)}\n",
    "plot.add(line)"
   ]
  },
  {
   "cell_type": "code",
   "execution_count": null,
   "metadata": {},
   "outputs": [],
   "source": [
    "%%sql\n",
    "%defaultDatasource jdbc:h2:mem:db\n",
    "DROP TABLE IF EXISTS cities;\n",
    "CREATE TABLE cities(\n",
    "    zip_code varchar(5),\n",
    "    latitude float,\n",
    "    longitude float,\n",
    "    city varchar(100),\n",
    "    state varchar(2),\n",
    "    county varchar(100),\n",
    "    PRIMARY KEY (zip_code),\n",
    ") AS SELECT\n",
    "    zip_code,\n",
    "    latitude,\n",
    "    longitude,\n",
    "    city,\n",
    "    state,\n",
    "    county\n",
    "FROM CSVREAD('../resources/data/UScity.csv')"
   ]
  },
  {
   "cell_type": "code",
   "execution_count": null,
   "metadata": {},
   "outputs": [],
   "source": [
    "%%sql\n",
    "SELECT * FROM cities WHERE state = 'NY'"
   ]
  },
  {
   "cell_type": "code",
   "execution_count": null,
   "metadata": {},
   "outputs": [],
   "source": [
    "%defaultDatasource jdbc:h2:mem:db"
   ]
  },
  {
   "cell_type": "code",
   "execution_count": null,
   "metadata": {},
   "outputs": [],
   "source": []
  }
 ],
 "metadata": {
  "kernelspec": {
   "display_name": "Python 3",
   "language": "python",
   "name": "python3"
  },
  "language_info": {
   "codemirror_mode": {
    "name": "ipython",
    "version": 3
   },
   "file_extension": ".py",
   "mimetype": "text/x-python",
   "name": "python",
   "nbconvert_exporter": "python",
   "pygments_lexer": "ipython3",
   "version": "3.6.4"
  }
 },
 "nbformat": 4,
 "nbformat_minor": 2
}
