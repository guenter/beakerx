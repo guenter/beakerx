{
 "cells": [
  {
   "cell_type": "code",
   "execution_count": null,
   "metadata": {},
   "outputs": [],
   "source": [
    "[\"x\" : 1, \"y\" : 2]"
   ]
  },
  {
   "cell_type": "code",
   "execution_count": null,
   "metadata": {},
   "outputs": [],
   "source": [
    "List list = new ArrayList();\n",
    "list.add([\"x\" : 1, \"y\" : 2]);\n",
    "list.add([\"x\" : 3, \"y\" : 4]);\n",
    "list"
   ]
  },
  {
   "cell_type": "code",
   "execution_count": null,
   "metadata": {},
   "outputs": [],
   "source": [
    "Map[] map = new Map[2];\n",
    "map[0] = [\"x\" : 1, \"y\" : 2]\n",
    "map[1] = [\"x\" : 3, \"y\" : 4]\n",
    "map"
   ]
  },
  {
   "cell_type": "code",
   "execution_count": null,
   "metadata": {},
   "outputs": [],
   "source": [
    "def listOfMap = []\n",
    "1.upto(3){\n",
    "    listOfMap += [\"test\": it, \"test2\": 2 * it]\n",
    "}\n",
    "listOfMap"
   ]
  },
  {
   "cell_type": "code",
   "execution_count": 1,
   "metadata": {},
   "outputs": [
    {
     "data": {
      "application/vnd.jupyter.widget-view+json": {
       "model_id": "1c732f17-98ac-4ee2-9a2c-148f76cb5ca0",
       "version_major": 2,
       "version_minor": 0
      },
      "method": "display_data"
     },
     "metadata": {},
     "output_type": "display_data"
    }
   ],
   "source": [
    "def myMap = [:]\n",
    "def myList = []\n",
    "myList << [1, 2, 3]\n",
    "myList << [2, 3, 4]\n",
    "myMap.put(1, myList)\n",
    "myMap"
   ]
  },
  {
   "cell_type": "code",
   "execution_count": null,
   "metadata": {},
   "outputs": [],
   "source": [
    "def myMap = [:]\n",
    "def myList = [num1:1, num2:2]\n",
    "myMap.put(1, myList)\n",
    "myMap"
   ]
  },
  {
   "cell_type": "code",
   "execution_count": 1,
   "metadata": {},
   "outputs": [
    {
     "data": {
      "application/vnd.jupyter.widget-view+json": {
       "model_id": "271d4b86-d3f3-4597-8e84-ad04c62cb8a2",
       "version_major": 2,
       "version_minor": 0
      },
      "method": "display_data"
     },
     "metadata": {},
     "output_type": "display_data"
    }
   ],
   "source": [
    "new TableDisplay([[col1: \"This & that\", col2: \"This / that\", col3: \"This > that\"]]);"
   ]
  },
  {
   "cell_type": "code",
   "execution_count": 1,
   "metadata": {},
   "outputs": [
    {
     "data": {
      "application/vnd.jupyter.widget-view+json": {
       "model_id": "5ab08c88-068d-48b3-88c0-97962fec8bd6",
       "version_major": 2,
       "version_minor": 0
      },
      "method": "display_data"
     },
     "metadata": {},
     "output_type": "display_data"
    }
   ],
   "source": [
    "class MyClass {\n",
    "    def value;\n",
    "    public MyClass(String value) {\n",
    "        this.value = value\n",
    "    }\n",
    "    \n",
    "    public String toString() {\n",
    "        return this.value;\n",
    "    }\n",
    "}\n",
    "\n",
    "def clz = new MyClass(\"print this\")\n",
    "def tableData = [\n",
    "   [myclass:  clz]\n",
    "]\n",
    "displayObject = new TableDisplay(tableData);\n",
    "displayObject"
   ]
  },
  {
   "cell_type": "code",
   "execution_count": null,
   "metadata": {},
   "outputs": [],
   "source": []
  }
 ],
 "metadata": {
  "kernelspec": {
   "display_name": "Groovy",
   "language": "groovy",
   "name": "groovy"
  },
  "language_info": {
   "codemirror_mode": "groovy",
   "file_extension": ".groovy",
   "mimetype": "",
   "name": "Groovy",
   "nbconverter_exporter": "",
   "version": "2.4.3"
  }
 },
 "nbformat": 4,
 "nbformat_minor": 2
}
